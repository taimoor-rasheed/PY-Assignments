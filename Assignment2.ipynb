{
 "cells": [
  {
   "cell_type": "code",
   "execution_count": 7,
   "metadata": {},
   "outputs": [
    {
     "name": "stdout",
     "output_type": "stream",
     "text": [
      "enter the marks of english  12\n",
      "enter the marks of physics  12\n",
      "enter the marsk of chemistry  12\n",
      "enter the marks of maths  1\n",
      "enter the marks of urdu  21\n",
      "11.600000000000001\n",
      "FAIL\n"
     ]
    }
   ],
   "source": [
    "eng=int(input(\"enter the marks of english  \"))\n",
    "phy=int(input(\"enter the marks of physics  \"))\n",
    "chem=int(input(\"enter the marsk of chemistry  \"))\n",
    "math=int(input(\"enter the marks of maths  \"))\n",
    "urdu=int(input(\"enter the marks of urdu  \"))\n",
    "total_marks=500\n",
    "obtained_marks=eng+phy+chem+math+urdu\n",
    "percentage= (obtained_marks/total_marks)*100\n",
    "\n",
    "print(percentage)\n",
    "\n",
    "if percentage>=80:\n",
    "    print(\"grade A+\")\n",
    "elif percentage>=70 and percentage<80:\n",
    "    print(\"grade A\")\n",
    "elif percentage>=60 and percentage<70:\n",
    "    print(\"grade B\")    \n",
    "elif percentage>=50 and percentage<60:\n",
    "    print(\"grade A\")\n",
    "else:\n",
    "    print(\"FAIL\")\n",
    "\n"
   ]
  },
  {
   "cell_type": "markdown",
   "metadata": {},
   "source": []
  },
  {
   "cell_type": "code",
   "execution_count": 9,
   "metadata": {},
   "outputs": [
    {
     "name": "stdout",
     "output_type": "stream",
     "text": [
      "enter the number  10000000\n",
      "EVEN\n"
     ]
    }
   ],
   "source": [
    "no1=int(input(\"enter the number  \"))\n",
    "if no1%2==0:\n",
    "    print(\"EVEN\")\n",
    "else:\n",
    "    print(\"ODD\")\n",
    "\n",
    "\n"
   ]
  },
  {
   "cell_type": "code",
   "execution_count": 13,
   "metadata": {},
   "outputs": [
    {
     "name": "stdout",
     "output_type": "stream",
     "text": [
      "10\n"
     ]
    }
   ],
   "source": [
    "list=[1,2,3,4,5,6,7,8,8,9,]\n",
    "print(len(list))"
   ]
  },
  {
   "cell_type": "code",
   "execution_count": 2,
   "metadata": {},
   "outputs": [
    {
     "name": "stdout",
     "output_type": "stream",
     "text": [
      "15\n"
     ]
    }
   ],
   "source": [
    "list=[1,2,3,4,5]\n",
    "sum=list[0]+list[1]+list[2]+list[3]+list[4]\n",
    "print(sum)"
   ]
  },
  {
   "cell_type": "code",
   "execution_count": 7,
   "metadata": {},
   "outputs": [
    {
     "name": "stdout",
     "output_type": "stream",
     "text": [
      "10\n"
     ]
    }
   ],
   "source": [
    "list=[1,2,3,4,5,6,7,8,8,9,10]\n",
    "max=0\n",
    "for x in list:\n",
    "    if x>max:\n",
    "        max=x\n",
    "print(max)        "
   ]
  },
  {
   "cell_type": "code",
   "execution_count": 10,
   "metadata": {},
   "outputs": [
    {
     "name": "stdout",
     "output_type": "stream",
     "text": [
      "1\n",
      "1\n",
      "2\n",
      "3\n"
     ]
    }
   ],
   "source": [
    "a = [1, 1, 2, 3, 5, 8, 13, 21, 34, 55, 89]\n",
    "for x in a:\n",
    "    if x<5:\n",
    "        print(x)"
   ]
  },
  {
   "cell_type": "code",
   "execution_count": null,
   "metadata": {},
   "outputs": [],
   "source": []
  }
 ],
 "metadata": {
  "kernelspec": {
   "display_name": "Python 3",
   "language": "python",
   "name": "python3"
  },
  "language_info": {
   "codemirror_mode": {
    "name": "ipython",
    "version": 3
   },
   "file_extension": ".py",
   "mimetype": "text/x-python",
   "name": "python",
   "nbconvert_exporter": "python",
   "pygments_lexer": "ipython3",
   "version": "3.7.4"
  }
 },
 "nbformat": 4,
 "nbformat_minor": 2
}
