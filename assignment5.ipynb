{
 "cells": [
  {
   "cell_type": "code",
   "execution_count": 1,
   "metadata": {
    "scrolled": false
   },
   "outputs": [
    {
     "name": "stdout",
     "output_type": "stream",
     "text": [
      "Enter a number to find factorial: 4\n",
      "factorial of the given number is: \n",
      "24\n"
     ]
    }
   ],
   "source": [
    "num=int(input(\"Enter a number to find factorial: \"))\n",
    "factorial=1\n",
    "if num<0:\n",
    "    print(\"Factorial does not defined for negative integer\");\n",
    "elif(num==0):\n",
    "    print(\"The factorial of 0 is 1\");\n",
    "else:\n",
    "    while(num>0):\n",
    "        factorial=factorial*num\n",
    "        \n",
    "        num=num-1\n",
    "        \n",
    "    print(\"factorial of the given number is: \")\n",
    "    print(factorial)"
   ]
  },
  {
   "cell_type": "code",
   "execution_count": 1,
   "metadata": {},
   "outputs": [
    {
     "name": "stdout",
     "output_type": "stream",
     "text": [
      "Please Enter The String:  KARACHI is a beautiful city\n",
      "Number of lower casae letters are:  16\n",
      "Number of upper case letters are:   7\n"
     ]
    }
   ],
   "source": [
    "String=input(\"Please Enter The String:  \" )\n",
    "count1=0\n",
    "count2=0\n",
    "\n",
    "for i in String:\n",
    "    if(i.islower()):\n",
    "        count1+=1\n",
    "    elif(i.isupper()):\n",
    "        count2+=1\n",
    "print(\"Number of lower casae letters are: \",count1)\n",
    "print(\"Number of upper case letters are:  \",count2)\n",
    "    "
   ]
  },
  {
   "cell_type": "code",
   "execution_count": 14,
   "metadata": {},
   "outputs": [
    {
     "name": "stdout",
     "output_type": "stream",
     "text": [
      "even numbers are: \n",
      "4\n",
      "10\n",
      "2\n",
      "28\n",
      "22\n",
      "46\n",
      "odd numbers are: \n",
      "1\n",
      "3\n",
      "5\n",
      "9\n"
     ]
    }
   ],
   "source": [
    "numbers=[1,3,4,10,2,5,28,9,22,46]\n",
    "\n",
    "def even_no():\n",
    "    print(\"even numbers are: \")\n",
    "    for x in numbers:\n",
    "        if(x%2==0):\n",
    "            even=x\n",
    "            print(even)\n",
    "\n",
    "def odd_no():\n",
    "    print(\"odd numbers are: \")\n",
    "    for x in numbers:\n",
    "        if(x%2!=0):\n",
    "            odd=x\n",
    "            print(odd)            \n",
    "            \n",
    "even_no()      \n",
    "odd_no()"
   ]
  },
  {
   "cell_type": "code",
   "execution_count": 1,
   "metadata": {},
   "outputs": [
    {
     "name": "stdout",
     "output_type": "stream",
     "text": [
      "please enter the string:  madam\n",
      "The string is a palindrome.\n"
     ]
    }
   ],
   "source": [
    "\n",
    "my_str =input(\"please enter the string:  \")\n",
    "\n",
    "my_str = my_str.casefold()\n",
    "\n",
    "rev_str = reversed(my_str)\n",
    "\n",
    "if list(my_str) == list(rev_str):\n",
    "    print(\"The string is a palindrome.\")\n",
    "else:\n",
    "    print(\"The string is not a palindrome.\")"
   ]
  },
  {
   "cell_type": "code",
   "execution_count": 3,
   "metadata": {},
   "outputs": [
    {
     "name": "stdout",
     "output_type": "stream",
     "text": [
      "please enter the number: 26\n",
      "the given number is an EVEN number\n"
     ]
    }
   ],
   "source": [
    "def even_odd(num):\n",
    "    if(num%2==0):\n",
    "        print(\"the given number is an EVEN number\")\n",
    "    elif(num%2!=0):\n",
    "        print(\"the given number is an ODD number\")\n",
    "        \n",
    "num=int(input(\"please enter the number: \"))\n",
    "even_odd(num)"
   ]
  },
  {
   "cell_type": "code",
   "execution_count": null,
   "metadata": {},
   "outputs": [],
   "source": [
    "def products_bought(*products):\n",
    "    print(\"customer bought the following products\")\n",
    "    for i in products:\n",
    "        print(i)\n",
    "        \n",
    "products_bought()       "
   ]
  }
 ],
 "metadata": {
  "kernelspec": {
   "display_name": "Python 3",
   "language": "python",
   "name": "python3"
  },
  "language_info": {
   "codemirror_mode": {
    "name": "ipython",
    "version": 3
   },
   "file_extension": ".py",
   "mimetype": "text/x-python",
   "name": "python",
   "nbconvert_exporter": "python",
   "pygments_lexer": "ipython3",
   "version": "3.7.4"
  }
 },
 "nbformat": 4,
 "nbformat_minor": 2
}
