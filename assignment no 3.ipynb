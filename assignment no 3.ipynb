{
 "cells": [
  {
   "cell_type": "code",
   "execution_count": 8,
   "metadata": {},
   "outputs": [
    {
     "name": "stdout",
     "output_type": "stream",
     "text": [
      "Enter the first number  10\n",
      "Enter the second number  5\n",
      "Give the function to perform  divide\n",
      "2.0\n"
     ]
    }
   ],
   "source": [
    "no1=int(input(\"Enter the first number  \"))\n",
    "no2=int(input(\"Enter the second number  \"))\n",
    "function=input(\"Give the function to perform  \")\n",
    "if(function==\"add\"):\n",
    "    add=no1+no2\n",
    "    print(add)\n",
    "elif(function==\"subtract\"):\n",
    "    sub=no1-no2\n",
    "    print(sub)\n",
    "elif(function==\"multiply\"):\n",
    "    mul=no1*no2\n",
    "    print(mul)\n",
    "elif(function==\"divide\"):\n",
    "    div=no1/no2\n",
    "    print(div)\n",
    "    "
   ]
  },
  {
   "cell_type": "code",
   "execution_count": 18,
   "metadata": {},
   "outputs": [
    {
     "name": "stdout",
     "output_type": "stream",
     "text": [
      "no integer value in the list\n"
     ]
    }
   ],
   "source": [
    "list=[\"abc\",'a',\"df\",\"xyz\",\"dskhn\",\"fjkk\"]\n",
    "for x in list:\n",
    "    if x==int in list:\n",
    "        print(\"there is integer in the list\")\n",
    "else:\n",
    "    print(\"no integer value in the list\")"
   ]
  },
  {
   "cell_type": "code",
   "execution_count": 30,
   "metadata": {},
   "outputs": [
    {
     "name": "stdout",
     "output_type": "stream",
     "text": [
      "{'name': 'taimoor', 'age': '18', 'department': 'CE', 'Roll_no': '1010'}\n"
     ]
    }
   ],
   "source": [
    "student={\n",
    "    'name':'taimoor',\n",
    "    'age':'18',\n",
    "    'department':'CE',\n",
    "    'Roll_no':'1010'\n",
    "    }\n",
    "\n",
    "print(student)"
   ]
  },
  {
   "cell_type": "code",
   "execution_count": 40,
   "metadata": {},
   "outputs": [
    {
     "name": "stdout",
     "output_type": "stream",
     "text": [
      "20\n"
     ]
    }
   ],
   "source": [
    "numbers={\n",
    "    'a':1,\n",
    "    'b':2,\n",
    "    'c':3,\n",
    "    'd':4,\n",
    "    'e':10\n",
    "}\n",
    "y=0;\n",
    "for x in numbers.values():\n",
    "    y+=x\n",
    "print(y)    \n"
   ]
  },
  {
   "cell_type": "code",
   "execution_count": 51,
   "metadata": {},
   "outputs": [
    {
     "name": "stdout",
     "output_type": "stream",
     "text": [
      "duplicate elements are [3, 9, 12]\n"
     ]
    }
   ],
   "source": [
    "lst = [ 3, 6, 9, 12, 3, 30, 15, 9, 45, 36, 12, 12]\n",
    "dupItems = []\n",
    "uniqItems = {}\n",
    "for x in lst:\n",
    "    if x not in uniqItems:\n",
    "        uniqItems[x] = 1\n",
    "    else:\n",
    "        if uniqItems[x] == 1:\n",
    "            dupItems.append(x)\n",
    "        uniqItems[x] += 1\n",
    "print(\"duplicate elements are\",dupItems)"
   ]
  },
  {
   "cell_type": "code",
   "execution_count": 45,
   "metadata": {},
   "outputs": [
    {
     "name": "stdout",
     "output_type": "stream",
     "text": [
      "Key is present in the dictionary\n",
      "Key is not present in the dictionary\n"
     ]
    }
   ],
   "source": [
    "d = {1: 10, 2: 20, 3: 30, 4: 40, 5: 50, 6: 60}\n",
    "def is_key_present(x):\n",
    "    if x in d:\n",
    "        print('Key is present in the dictionary')\n",
    "    else:\n",
    "        print('Key is not present in the dictionary')\n",
    "is_key_present(5)\n",
    "is_key_present(9)"
   ]
  },
  {
   "cell_type": "code",
   "execution_count": null,
   "metadata": {},
   "outputs": [],
   "source": []
  }
 ],
 "metadata": {
  "kernelspec": {
   "display_name": "Python 3",
   "language": "python",
   "name": "python3"
  },
  "language_info": {
   "codemirror_mode": {
    "name": "ipython",
    "version": 3
   },
   "file_extension": ".py",
   "mimetype": "text/x-python",
   "name": "python",
   "nbconvert_exporter": "python",
   "pygments_lexer": "ipython3",
   "version": "3.7.4"
  }
 },
 "nbformat": 4,
 "nbformat_minor": 2
}
