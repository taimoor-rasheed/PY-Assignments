{
 "cells": [
  {
   "cell_type": "code",
   "execution_count": 1,
   "metadata": {},
   "outputs": [
    {
     "name": "stdout",
     "output_type": "stream",
     "text": [
      "Y is greater than\n"
     ]
    }
   ],
   "source": [
    "x=5\n",
    "y=10\n",
    "if y>x:\n",
    "    print(\"Y is greater than\")\n",
    "else:\n",
    "    print(\"y is smaller than x\")\n",
    "    "
   ]
  },
  {
   "cell_type": "code",
   "execution_count": 3,
   "metadata": {},
   "outputs": [
    {
     "name": "stdout",
     "output_type": "stream",
     "text": [
      "Enter the number10\n",
      "enter the second number2\n",
      "y is smaller than x\n"
     ]
    }
   ],
   "source": [
    "x= int(input(\"Enter the number\"))\n",
    "y=int(input(\"enter the second number\"))\n",
    "if y>x:\n",
    "    print(\"y is greater than x\")\n",
    "else:\n",
    "    print(\"y is smaller than x\")"
   ]
  },
  {
   "cell_type": "code",
   "execution_count": null,
   "metadata": {},
   "outputs": [],
   "source": []
  }
 ],
 "metadata": {
  "kernelspec": {
   "display_name": "Python 3",
   "language": "python",
   "name": "python3"
  },
  "language_info": {
   "codemirror_mode": {
    "name": "ipython",
    "version": 3
   },
   "file_extension": ".py",
   "mimetype": "text/x-python",
   "name": "python",
   "nbconvert_exporter": "python",
   "pygments_lexer": "ipython3",
   "version": "3.7.4"
  }
 },
 "nbformat": 4,
 "nbformat_minor": 2
}
