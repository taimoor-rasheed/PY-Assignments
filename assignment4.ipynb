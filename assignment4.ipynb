{
 "cells": [
  {
   "cell_type": "code",
   "execution_count": 6,
   "metadata": {},
   "outputs": [
    {
     "name": "stdout",
     "output_type": "stream",
     "text": [
      "Saad\n",
      "tariq\n",
      "20\n",
      "karachi\n"
     ]
    },
    {
     "data": {
      "text/plain": [
       "{'first_name': 'Saad',\n",
       " 'last_name': 'tariq',\n",
       " 'age': '20',\n",
       " 'city': 'karachi',\n",
       " 'qualification': 'INTER'}"
      ]
     },
     "execution_count": 6,
     "metadata": {},
     "output_type": "execute_result"
    }
   ],
   "source": [
    "bio_data={\n",
    "    \"first_name\":\"Saad\",\n",
    "    \"last_name\": \"tariq\",\n",
    "    \"age\":'20',\n",
    "    \"city\": \"karachi\"\n",
    "    \n",
    "}\n",
    "\n",
    "print(bio_data[\"first_name\"])\n",
    "print(bio_data[\"last_name\"])\n",
    "print(bio_data[\"age\"])\n",
    "print(bio_data[\"city\"])\n",
    "\n",
    "bio_data[\"qualification\"]='INTER'\n",
    "\n",
    "bio_data\n",
    "\n"
   ]
  },
  {
   "cell_type": "code",
   "execution_count": 46,
   "metadata": {},
   "outputs": [
    {
     "name": "stdout",
     "output_type": "stream",
     "text": [
      "karachi {'country': 'pakistan', 'population': '20 lac', 'fact': 'biggest economic city of pakistan'}\n",
      "paris {'country': 'france', 'population': '50 lac', 'fact': 'eiffel tower situated in paris'}\n",
      "agra {'country': 'india', 'population': '70 lac', 'fact': 'taj mahal situated here'}\n"
     ]
    }
   ],
   "source": [
    "cities={\n",
    "    \n",
    "    'karachi':{\n",
    "        'country': 'pakistan',\n",
    "        'population': '20 lac',\n",
    "        'fact': 'biggest economic city of pakistan'\n",
    "    },\n",
    "    \n",
    "    'paris':{\n",
    "        'country': 'france',\n",
    "        'population': '50 lac',\n",
    "        'fact': 'eiffel tower situated in paris'\n",
    "        \n",
    "    },\n",
    "    \n",
    "    'agra':{\n",
    "        \n",
    "        'country':'india',\n",
    "        'population': '70 lac',\n",
    "        'fact': 'taj mahal situated here'\n",
    "    }    \n",
    "}\n",
    "\n",
    "for x,y in cities.items():\n",
    "    print(x,y)\n",
    "\n",
    "    \n"
   ]
  },
  {
   "cell_type": "code",
   "execution_count": 10,
   "metadata": {},
   "outputs": [
    {
     "name": "stdout",
     "output_type": "stream",
     "text": [
      "Please enter your age12\n",
      "10 dollars\n"
     ]
    }
   ],
   "source": [
    "\n",
    "age=int(input(\"Please enter your age\"))\n",
    "if age<=3:\n",
    "    print(\"Free\")\n",
    "elif age>3 & age<12:\n",
    "    print(\"10 dollars\")\n",
    "else:\n",
    "    print(\"15 dollars\")"
   ]
  },
  {
   "cell_type": "code",
   "execution_count": 12,
   "metadata": {},
   "outputs": [
    {
     "name": "stdout",
     "output_type": "stream",
     "text": [
      "my favorite book is around the world in eighy days\n"
     ]
    }
   ],
   "source": [
    "def favorite_book(a):\n",
    "    print(\"my favorite book is\",a)\n",
    "x=\"around the world in eighy days\"\n",
    "favorite_book(x)"
   ]
  },
  {
   "cell_type": "code",
   "execution_count": 58,
   "metadata": {},
   "outputs": [
    {
     "name": "stdout",
     "output_type": "stream",
     "text": [
      "GUESS A NUMBER BETWEEN 1 TO 30:        9\n",
      "NUMBER IS: 9\n",
      "YOU WIN\n",
      "10\n",
      "GUESS A NUMBER BETWEEN 1 TO 30:        22\n",
      "NUMBER IS: 7\n",
      "You Lose\n",
      "10\n",
      "GUESS A NUMBER BETWEEN 1 TO 30:        19\n",
      "NUMBER IS: 18\n",
      "You Lose\n",
      "10\n",
      "YOUR TOTAL SCORE IS: 10\n"
     ]
    }
   ],
   "source": [
    "import random\n",
    "score=0\n",
    "for loop in range(3):\n",
    "    guess_number=int(input(\"GUESS A NUMBER BETWEEN 1 TO 30:        \"))\n",
    "    for x in range(1):\n",
    "        xyz=random.randint(1,30)\n",
    "        print(\"NUMBER IS:\",  xyz)\n",
    "    if guess_number==xyz:\n",
    "        print(\"YOU WIN\")\n",
    "        score=score+10\n",
    "        print(score)\n",
    "    else:\n",
    "        print(\"You Lose\")\n",
    "        print(score)\n",
    "print(\"YOUR TOTAL SCORE IS:\",           score   )   "
   ]
  },
  {
   "cell_type": "code",
   "execution_count": null,
   "metadata": {},
   "outputs": [],
   "source": []
  },
  {
   "cell_type": "code",
   "execution_count": null,
   "metadata": {},
   "outputs": [],
   "source": []
  }
 ],
 "metadata": {
  "kernelspec": {
   "display_name": "Python 3",
   "language": "python",
   "name": "python3"
  },
  "language_info": {
   "codemirror_mode": {
    "name": "ipython",
    "version": 3
   },
   "file_extension": ".py",
   "mimetype": "text/x-python",
   "name": "python",
   "nbconvert_exporter": "python",
   "pygments_lexer": "ipython3",
   "version": "3.7.4"
  }
 },
 "nbformat": 4,
 "nbformat_minor": 2
}
